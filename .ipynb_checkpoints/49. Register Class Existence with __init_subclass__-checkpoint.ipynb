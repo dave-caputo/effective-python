{
 "cells": [
  {
   "cell_type": "code",
   "execution_count": 1,
   "metadata": {},
   "outputs": [],
   "source": [
    "# Given 1: A class that serialises the arguments passed on initialisation\n",
    "\n",
    "import json\n",
    "\n",
    "class Serializable:\n",
    "    \n",
    "    def __init__(self, *args):\n",
    "        self.args = args\n",
    "        \n",
    "    def serialize(self):\n",
    "        return json.dumps({'args': self.args})"
   ]
  },
  {
   "cell_type": "code",
   "execution_count": 2,
   "metadata": {},
   "outputs": [],
   "source": [
    "# Given 1: A subclass using the serializable class\n",
    "\n",
    "class Point2D(Serializable):\n",
    "    def __init__(self, x, y):\n",
    "        super().__init__(x, y)\n",
    "        self.x = x\n",
    "        self.y = y\n",
    "        \n",
    "    def __repr__(self):\n",
    "        return f\"Point2D({self.x}, {self.y})\""
   ]
  },
  {
   "cell_type": "code",
   "execution_count": 3,
   "metadata": {},
   "outputs": [],
   "source": [
    "# When 1: Create an instance\n",
    "point = Point2D(5, 3)"
   ]
  },
  {
   "cell_type": "code",
   "execution_count": 4,
   "metadata": {},
   "outputs": [],
   "source": [
    "# Then 1: We confirm it works correcly\n",
    "print('Object: ', point)\n",
    "print('Serialized: ', point.serialize())"
   ]
  },
  {
   "cell_type": "code",
   "execution_count": 5,
   "metadata": {},
   "outputs": [],
   "source": [
    "# Given 2: A class that deserialises the arguments\n",
    "\n",
    "class Deserializable(Serializable):\n",
    "    \n",
    "    @classmethod\n",
    "    def deserialize(cls, json_data):\n",
    "        params = json.loads(json_data) # Load dict\n",
    "        return cls(*params['args'])"
   ]
  },
  {
   "cell_type": "code",
   "execution_count": 6,
   "metadata": {},
   "outputs": [],
   "source": [
    "# Given 2: A class that inherits from both classes\n",
    "\n",
    "class BetterPoint2D(Deserializable):\n",
    "    ..."
   ]
  },
  {
   "cell_type": "code",
   "execution_count": 7,
   "metadata": {},
   "outputs": [
    {
     "name": "stdout",
     "output_type": "stream",
     "text": [
      "Better point:  <__main__.BetterPoint2D object at 0x7fbf9c37c160>\n",
      "Serialized data:  {\"args\": [5, 3]}\n",
      "New better point:  <__main__.BetterPoint2D object at 0x7fbf9c37c1c0>\n"
     ]
    }
   ],
   "source": [
    "# When: Serializing the point's data, and then deserializing it into a new point\n",
    "better_point = BetterPoint2D(5, 3)\n",
    "\n",
    "print('Better point: ', better_point)\n",
    "\n",
    "data = better_point.serialize()\n",
    "\n",
    "print('Serialized data: ', data)\n",
    "\n",
    "new_better_point = BetterPoint2D.deserialize(data)\n",
    "\n",
    "print('New better point: ', new_better_point)\n",
    "\n",
    "# Then: We confirm the approach works as intended"
   ]
  },
  {
   "cell_type": "code",
   "execution_count": 8,
   "metadata": {},
   "outputs": [],
   "source": [
    "# Problem: This only works when we know ahead of time the intended type of the serialized data\n",
    "\n",
    "# Solution: We want to have a single common function that can deserialize data\n",
    "#           into many different python objects."
   ]
  },
  {
   "cell_type": "code",
   "execution_count": 9,
   "metadata": {},
   "outputs": [],
   "source": [
    "# Given 3: We have a class that serializes an object with data that\n",
    "#          includes the class name that contained it\n",
    "\n",
    "class BetterSerializable:\n",
    "    \n",
    "    def __init__(self, *args):\n",
    "        self.args = args\n",
    "    \n",
    "    def serialize(self):\n",
    "        return json.dumps({'class': self.__class__.__name__, 'args': self.args})\n",
    "    \n",
    "    def __repr__(self):\n",
    "        name = self.__class__.__name__\n",
    "        args_str = ', '.join(str(x) for x in self.args)\n",
    "        return f'{name}({args_str})'\n"
   ]
  },
  {
   "cell_type": "code",
   "execution_count": 10,
   "metadata": {},
   "outputs": [],
   "source": [
    "# Given 3: A registry and and a function to register a class:\n",
    "\n",
    "registry = {}\n",
    "\n",
    "def register_class(target_class):\n",
    "    registry[target_class.__name__] = target_class\n"
   ]
  },
  {
   "cell_type": "code",
   "execution_count": 11,
   "metadata": {},
   "outputs": [],
   "source": [
    "# Given 3: A function that deserializes the data into a registed python class\n",
    "\n",
    "def deserialize(data):\n",
    "    params = json.loads(data)\n",
    "    name = params['class']\n",
    "    target_class = registry[name]\n",
    "    \n",
    "    return target_class(*params['args'])"
   ]
  },
  {
   "cell_type": "code",
   "execution_count": 12,
   "metadata": {},
   "outputs": [
    {
     "name": "stdout",
     "output_type": "stream",
     "text": [
      "Even better point:  EvenBetterPoint2D(5, 3)\n",
      "Serialized data:  {\"class\": \"EvenBetterPoint2D\", \"args\": [5, 3]}\n",
      "New even better point:  EvenBetterPoint2D(5, 3)\n"
     ]
    }
   ],
   "source": [
    "# Given 3: An even better 2D point serializable class\n",
    "\n",
    "class EvenBetterPoint2D(BetterSerializable):\n",
    "    def __init__(self, x, y):\n",
    "        super().__init__(x, y)\n",
    "        self.x = x\n",
    "        self.y = y\n",
    "\n",
    "        \n",
    "# Given 3: the class is registered\n",
    "register_class(EvenBetterPoint2D)\n",
    "\n",
    "\n",
    "# When: Serializing the point's data, and then deserializing it into a new point\n",
    "even_better_point = EvenBetterPoint2D(5, 3)\n",
    "\n",
    "print('Even better point: ', even_better_point)\n",
    "\n",
    "data = even_better_point.serialize()\n",
    "\n",
    "print('Serialized data: ', data)\n",
    "\n",
    "new_even_better_point = deserialize(data)\n",
    "\n",
    "print('New even better point: ', new_even_better_point)\n",
    "\n",
    "\n",
    "# Then: We can check that it works as intended"
   ]
  },
  {
   "cell_type": "code",
   "execution_count": 13,
   "metadata": {},
   "outputs": [
    {
     "ename": "KeyError",
     "evalue": "'Point3D'",
     "output_type": "error",
     "traceback": [
      "\u001b[0;31m---------------------------------------------------------------------------\u001b[0m",
      "\u001b[0;31mKeyError\u001b[0m                                  Traceback (most recent call last)",
      "\u001b[0;32m<ipython-input-13-68f4838cd23f>\u001b[0m in \u001b[0;36m<module>\u001b[0;34m\u001b[0m\n\u001b[1;32m     13\u001b[0m \u001b[0mpoint\u001b[0m \u001b[0;34m=\u001b[0m \u001b[0mPoint3D\u001b[0m\u001b[0;34m(\u001b[0m\u001b[0;36m5\u001b[0m\u001b[0;34m,\u001b[0m \u001b[0;36m9\u001b[0m\u001b[0;34m,\u001b[0m \u001b[0;34m-\u001b[0m\u001b[0;36m4\u001b[0m\u001b[0;34m)\u001b[0m\u001b[0;34m\u001b[0m\u001b[0;34m\u001b[0m\u001b[0m\n\u001b[1;32m     14\u001b[0m \u001b[0mdata\u001b[0m \u001b[0;34m=\u001b[0m \u001b[0mpoint\u001b[0m\u001b[0;34m.\u001b[0m\u001b[0mserialize\u001b[0m\u001b[0;34m(\u001b[0m\u001b[0;34m)\u001b[0m\u001b[0;34m\u001b[0m\u001b[0;34m\u001b[0m\u001b[0m\n\u001b[0;32m---> 15\u001b[0;31m \u001b[0mdeserialize\u001b[0m\u001b[0;34m(\u001b[0m\u001b[0mdata\u001b[0m\u001b[0;34m)\u001b[0m\u001b[0;34m\u001b[0m\u001b[0;34m\u001b[0m\u001b[0m\n\u001b[0m\u001b[1;32m     16\u001b[0m \u001b[0;34m\u001b[0m\u001b[0m\n\u001b[1;32m     17\u001b[0m \u001b[0;31m# Then: We get an error\u001b[0m\u001b[0;34m\u001b[0m\u001b[0;34m\u001b[0m\u001b[0;34m\u001b[0m\u001b[0m\n",
      "\u001b[0;32m<ipython-input-11-7a4d5be74a8a>\u001b[0m in \u001b[0;36mdeserialize\u001b[0;34m(data)\u001b[0m\n\u001b[1;32m      4\u001b[0m     \u001b[0mparams\u001b[0m \u001b[0;34m=\u001b[0m \u001b[0mjson\u001b[0m\u001b[0;34m.\u001b[0m\u001b[0mloads\u001b[0m\u001b[0;34m(\u001b[0m\u001b[0mdata\u001b[0m\u001b[0;34m)\u001b[0m\u001b[0;34m\u001b[0m\u001b[0;34m\u001b[0m\u001b[0m\n\u001b[1;32m      5\u001b[0m     \u001b[0mname\u001b[0m \u001b[0;34m=\u001b[0m \u001b[0mparams\u001b[0m\u001b[0;34m[\u001b[0m\u001b[0;34m'class'\u001b[0m\u001b[0;34m]\u001b[0m\u001b[0;34m\u001b[0m\u001b[0;34m\u001b[0m\u001b[0m\n\u001b[0;32m----> 6\u001b[0;31m     \u001b[0mtarget_class\u001b[0m \u001b[0;34m=\u001b[0m \u001b[0mregistry\u001b[0m\u001b[0;34m[\u001b[0m\u001b[0mname\u001b[0m\u001b[0;34m]\u001b[0m\u001b[0;34m\u001b[0m\u001b[0;34m\u001b[0m\u001b[0m\n\u001b[0m\u001b[1;32m      7\u001b[0m \u001b[0;34m\u001b[0m\u001b[0m\n\u001b[1;32m      8\u001b[0m     \u001b[0;32mreturn\u001b[0m \u001b[0mtarget_class\u001b[0m\u001b[0;34m(\u001b[0m\u001b[0;34m*\u001b[0m\u001b[0mparams\u001b[0m\u001b[0;34m[\u001b[0m\u001b[0;34m'args'\u001b[0m\u001b[0;34m]\u001b[0m\u001b[0;34m)\u001b[0m\u001b[0;34m\u001b[0m\u001b[0;34m\u001b[0m\u001b[0m\n",
      "\u001b[0;31mKeyError\u001b[0m: 'Point3D'"
     ]
    }
   ],
   "source": [
    "# Problem: If we forget to register the class, the code will break at runtime\n",
    "\n",
    "\n",
    "# Given: A class the we forget to register\n",
    "class Point3D(BetterSerializable):\n",
    "    def __init__(self, x, y, z):\n",
    "        super().__init__(x, y, z)\n",
    "        self.x = x\n",
    "        self.y = y\n",
    "        self.z = z\n",
    "\n",
    "# When: trying to deserialize the data\n",
    "point = Point3D(5, 9, -4)\n",
    "data = point.serialize()\n",
    "deserialize(data)\n",
    "\n",
    "# Then: We get an error"
   ]
  },
  {
   "cell_type": "code",
   "execution_count": null,
   "metadata": {},
   "outputs": [],
   "source": [
    "# Solution: Register the class when overriding \n",
    "\n",
    "\n",
    "# Given 4: A base class that registers all its subclasses\n",
    "class BetterRegisteredSerializable(BetterSerializable):\n",
    "    \n",
    "    def __init_subclass__(cls):\n",
    "        super().__init_subclass__()\n",
    "        register_class(cls)\n",
    "\n",
    "        \n",
    "# Given 4: A new class that inherits from the above\n",
    "class Vector1D(BetterRegisteredSerializable):\n",
    "    def __init__(self, magnitude):\n",
    "        super().__init__(magnitude)\n",
    "        self.magnitude = magnitude\n",
    "\n",
    "        \n",
    "# When: trying to deserialize the data\n",
    "vector = Vector1D(6)\n",
    "\n",
    "print('Vector: ', vector)\n",
    "\n",
    "data = vector.serialize()\n",
    "\n",
    "print('Serialized data: ', data)\n",
    "\n",
    "new_vector = deserialize(data)\n",
    "\n",
    "print('New vector: ', new_vector)\n",
    "\n",
    "# Then: it works as intended without having to register the class"
   ]
  },
  {
   "cell_type": "markdown",
   "metadata": {},
   "source": [
    "## Things to remember\n",
    "* Class registration is a helpful pattern for building modular Python programs\n",
    "* Metaclasses let you run registration code automatically each time a base class is subclassed in a program\n",
    "* Using metaclasses for class registration helps you avoid errors by ensuring that you never miss a registration call.\n",
    "* Prefer `__init_subclass__` over standard metaclass machinery because it's clearer and easier for beginners to understand."
   ]
  },
  {
   "cell_type": "code",
   "execution_count": null,
   "metadata": {},
   "outputs": [],
   "source": [
    "# To register a class with a metaclass\n",
    "\n",
    "class Meta(type):\n",
    "    \n",
    "    def __new__(meta, name, bases, class_dict):\n",
    "        \"\"\"Create and then register a new class.\"\"\"\n",
    "        cls = type.__new__(meta, name, bases, class_dict)\n",
    "        \n",
    "        register_class(cls)\n",
    "        \n",
    "        return cls\n",
    "    \n",
    "\n",
    "class RegisteredSerializable(BetterSerializable, metaclass=Meta):\n",
    "    pass\n"
   ]
  }
 ],
 "metadata": {
  "kernelspec": {
   "display_name": "Python 3",
   "language": "python",
   "name": "python3"
  },
  "language_info": {
   "codemirror_mode": {
    "name": "ipython",
    "version": 3
   },
   "file_extension": ".py",
   "mimetype": "text/x-python",
   "name": "python",
   "nbconvert_exporter": "python",
   "pygments_lexer": "ipython3",
   "version": "3.8.5"
  }
 },
 "nbformat": 4,
 "nbformat_minor": 4
}
